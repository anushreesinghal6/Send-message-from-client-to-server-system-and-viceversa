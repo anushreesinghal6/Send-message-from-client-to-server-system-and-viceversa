{
  "nbformat": 4,
  "nbformat_minor": 0,
  "metadata": {
    "colab": {
      "provenance": [],
      "gpuType": "T4"
    },
    "kernelspec": {
      "name": "python3",
      "display_name": "Python 3"
    },
    "language_info": {
      "name": "python"
    },
    "accelerator": "GPU"
  },
  "cells": [
    {
      "cell_type": "code",
      "source": [
        "import socket\n",
        "\n",
        "# Create a socket\n",
        "client_socket = socket.socket(socket.AF_INET, socket.SOCK_STREAM)\n",
        "\n",
        "# Connect to the server\n",
        "server_address = ('127.0.0.1', 12345)\n",
        "client_socket.connect(server_address)\n",
        "print(\"Connected to server.\")\n",
        "\n",
        "while True:\n",
        "    try:\n",
        "        # Send a message to the server\n",
        "        message = input(\"Client: \")\n",
        "        client_socket.send(message.encode('utf-8'))\n",
        "\n",
        "        # Receive a response from the server\n",
        "        response = client_socket.recv(1024).decode('utf-8')\n",
        "        print(\"Server:\", response)\n",
        "    except Exception as e:\n",
        "        print(\"An error occurred:\", str(e))\n",
        "        break\n",
        "\n",
        "# Close the socket\n",
        "client_socket.close()\n"
      ],
      "metadata": {
        "id": "LgA54zVCedcX"
      },
      "execution_count": null,
      "outputs": []
    }
  ]
}