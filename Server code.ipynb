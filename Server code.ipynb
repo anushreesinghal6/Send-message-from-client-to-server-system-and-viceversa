{
  "nbformat": 4,
  "nbformat_minor": 0,
  "metadata": {
    "colab": {
      "provenance": [],
      "gpuType": "T4"
    },
    "kernelspec": {
      "name": "python3",
      "display_name": "Python 3"
    },
    "language_info": {
      "name": "python"
    },
    "accelerator": "GPU"
  },
  "cells": [
    {
      "cell_type": "code",
      "source": [
        "import socket\n",
        "\n",
        "# Create a socket\n",
        "server_socket = socket.socket(socket.AF_INET, socket.SOCK_STREAM)\n",
        "\n",
        "# Bind the socket to a specific IP and port\n",
        "server_address = ('127.0.0.1', 12345)\n",
        "server_socket.bind(server_address)\n",
        "\n",
        "# Listen for incoming connections\n",
        "server_socket.listen(1)\n",
        "print(\"Server is listening for incoming connections...\")\n",
        "\n",
        "# Accept a connection\n",
        "client_socket, client_address = server_socket.accept()\n",
        "print(\"Connected to:\", client_address)\n",
        "\n",
        "while True:\n",
        "    try:\n",
        "        # Receive data from the client\n",
        "        data = client_socket.recv(1024).decode('utf-8')\n",
        "        if not data:\n",
        "            break  # No data received, end the connection\n",
        "        print(\"Client:\", data)\n",
        "\n",
        "        # Send a response back to the client\n",
        "        response = input(\"Server: \")\n",
        "        client_socket.send(response.encode('utf-8'))\n",
        "    except Exception as e:\n",
        "        print(\"An error occurred:\", str(e))\n",
        "        break\n",
        "\n",
        "# Close the sockets\n",
        "client_socket.close()\n",
        "server_socket.close()\n"
      ],
      "metadata": {
        "id": "VrG_FIzzeU4c"
      },
      "execution_count": null,
      "outputs": []
    }
  ]
}